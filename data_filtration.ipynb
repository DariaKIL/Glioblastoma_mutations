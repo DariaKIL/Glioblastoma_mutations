{
  "nbformat": 4,
  "nbformat_minor": 0,
  "metadata": {
    "colab": {
      "provenance": []
    },
    "kernelspec": {
      "name": "python3",
      "display_name": "Python 3"
    },
    "language_info": {
      "name": "python"
    }
  },
  "cells": [
    {
      "cell_type": "markdown",
      "source": [
        "# Data preparation"
      ],
      "metadata": {
        "id": "Ad2UeY343upt"
      }
    },
    {
      "cell_type": "code",
      "source": [
        "import pandas as pd\n",
        "import os\n",
        "\n",
        "# Impute your path\n",
        "work_dir =  os.getcwd()\n",
        "directory = os.path.join(work_dir, 'output')\n",
        "dfs = {}\n",
        "\n",
        "# Download all files relevant to *_combined.tsv\n",
        "for filename in os.listdir(directory):\n",
        "    if filename.endswith('_combined.tsv'):\n",
        "        sample_name = filename.split('_combined.tsv')[0]\n",
        "        file_path = os.path.join(directory, filename)\n",
        "        dfs[sample_name] = pd.read_csv(file_path, sep='\\t', encoding='ISO-8859-1')\n",
        "\n",
        "# Check DataFrames\n",
        "for sample, df in dfs.items():\n",
        "    print(f\"DataFrame for {sample}:\")\n",
        "    print(df.head())"
      ],
      "metadata": {
        "colab": {
          "base_uri": "https://localhost:8080/"
        },
        "id": "qPoEsPEOolJs",
        "outputId": "49985730-e44b-4e7a-8ffb-6cbcd2829757"
      },
      "execution_count": 68,
      "outputs": [
        {
          "output_type": "stream",
          "name": "stderr",
          "text": [
            "<ipython-input-68-455f6ac53722>:14: DtypeWarning: Columns (0) have mixed types. Specify dtype option on import or set low_memory=False.\n",
            "  dfs[sample_name] = pd.read_csv(file_path, sep='\\t', encoding='ISO-8859-1')\n",
            "<ipython-input-68-455f6ac53722>:14: DtypeWarning: Columns (0) have mixed types. Specify dtype option on import or set low_memory=False.\n",
            "  dfs[sample_name] = pd.read_csv(file_path, sep='\\t', encoding='ISO-8859-1')\n",
            "<ipython-input-68-455f6ac53722>:14: DtypeWarning: Columns (0) have mixed types. Specify dtype option on import or set low_memory=False.\n",
            "  dfs[sample_name] = pd.read_csv(file_path, sep='\\t', encoding='ISO-8859-1')\n"
          ]
        },
        {
          "output_type": "stream",
          "name": "stdout",
          "text": [
            "DataFrame for POU538:\n",
            "  CHROM     POS ID REF ALT  QUAL FILTER POU538_GT POU538_DP Allele  ...  \\\n",
            "0     1   69270  .   A   G   969   PASS         .         0    G,G  ...   \n",
            "1     1   69511  .   A   G  3070   PASS         .         0      G  ...   \n",
            "2     1   69761  .   A   T   478   PASS         .         0      T  ...   \n",
            "3     1   69897  .   T   C   334   PASS         .         0      C  ...   \n",
            "4     1  129285  .   G   A   134   PASS       1/1         7    A,A  ...   \n",
            "\n",
            "  dgWES_AC_Het dgWES_AC_Hom dgWES_AC_Hemi                dgWES_HWE  \\\n",
            "0        27,27      924,924           0,0                      0,0   \n",
            "1            8         1038             0                        0   \n",
            "2           37           80             0              4.76133e-41   \n",
            "3          177          520             0                        0   \n",
            "4        66,66      118,118           0,0  1.54143e-44,1.54143e-44   \n",
            "\n",
            "                  gnomADv3        gnomADv3_AF gnomADv3_AC_raw gnomADv3_AC_XY  \\\n",
            "0  rs201219564,rs201219564  0.629059,0.629059     70096,70096      6013,6013   \n",
            "1                rs2691305           0.846001           86570          33720   \n",
            "2              rs200505207          0.0608789            7596           1777   \n",
            "3              rs200676709           0.486394           61750          11436   \n",
            "4  rs372768449,rs372768449    0.66593,0.66593   103121,103121    45353,45353   \n",
            "\n",
            "  gnomADv3_AC_XX gnomADv3_nhomalt  \n",
            "0      7430,7430        4866,4866  \n",
            "1          36762            32489  \n",
            "2           2232              197  \n",
            "3          13802             5490  \n",
            "4    48386,48386      23564,23564  \n",
            "\n",
            "[5 rows x 115 columns]\n",
            "DataFrame for QZU677:\n",
            "  CHROM     POS ID REF ALT  QUAL FILTER QZU677_GT QZU677_DP Allele  ...  \\\n",
            "0     1   69270  .   A   G   969   PASS       1/1        35    G,G  ...   \n",
            "1     1   69511  .   A   G  3070   PASS       1/1       417      G  ...   \n",
            "2     1   69761  .   A   T   478   PASS       1/1        47      T  ...   \n",
            "3     1   69897  .   T   C   334   PASS       1/1        10      C  ...   \n",
            "4     1  129285  .   G   A   134   PASS       0/1        63    A,A  ...   \n",
            "\n",
            "  dgWES_AC_Het dgWES_AC_Hom dgWES_AC_Hemi                dgWES_HWE  \\\n",
            "0        27,27      924,924           0,0                      0,0   \n",
            "1            8         1038             0                        0   \n",
            "2           37           80             0              4.76133e-41   \n",
            "3          177          520             0                        0   \n",
            "4        66,66      118,118           0,0  1.54143e-44,1.54143e-44   \n",
            "\n",
            "                  gnomADv3        gnomADv3_AF gnomADv3_AC_raw gnomADv3_AC_XY  \\\n",
            "0  rs201219564,rs201219564  0.629059,0.629059     70096,70096      6013,6013   \n",
            "1                rs2691305           0.846001           86570          33720   \n",
            "2              rs200505207          0.0608789            7596           1777   \n",
            "3              rs200676709           0.486394           61750          11436   \n",
            "4  rs372768449,rs372768449    0.66593,0.66593   103121,103121    45353,45353   \n",
            "\n",
            "  gnomADv3_AC_XX gnomADv3_nhomalt  \n",
            "0      7430,7430        4866,4866  \n",
            "1          36762            32489  \n",
            "2           2232              197  \n",
            "3          13802             5490  \n",
            "4    48386,48386      23564,23564  \n",
            "\n",
            "[5 rows x 115 columns]\n",
            "DataFrame for OQL728:\n",
            "  CHROM     POS ID REF ALT  QUAL FILTER OQL728_GT OQL728_DP Allele  ...  \\\n",
            "0     1   69270  .   A   G   969   PASS       1/1        69    G,G  ...   \n",
            "1     1   69511  .   A   G  3070   PASS       1/1       915      G  ...   \n",
            "2     1   69761  .   A   T   478   PASS       0/0       108      T  ...   \n",
            "3     1   69897  .   T   C   334   PASS       1/1        19      C  ...   \n",
            "4     1  129285  .   G   A   134   PASS       0/1       128    A,A  ...   \n",
            "\n",
            "  dgWES_AC_Het dgWES_AC_Hom dgWES_AC_Hemi                dgWES_HWE  \\\n",
            "0        27,27      924,924           0,0                      0,0   \n",
            "1            8         1038             0                        0   \n",
            "2           37           80             0              4.76133e-41   \n",
            "3          177          520             0                        0   \n",
            "4        66,66      118,118           0,0  1.54143e-44,1.54143e-44   \n",
            "\n",
            "                  gnomADv3        gnomADv3_AF gnomADv3_AC_raw gnomADv3_AC_XY  \\\n",
            "0  rs201219564,rs201219564  0.629059,0.629059     70096,70096      6013,6013   \n",
            "1                rs2691305           0.846001           86570          33720   \n",
            "2              rs200505207          0.0608789            7596           1777   \n",
            "3              rs200676709           0.486394           61750          11436   \n",
            "4  rs372768449,rs372768449    0.66593,0.66593   103121,103121    45353,45353   \n",
            "\n",
            "  gnomADv3_AC_XX gnomADv3_nhomalt  \n",
            "0      7430,7430        4866,4866  \n",
            "1          36762            32489  \n",
            "2           2232              197  \n",
            "3          13802             5490  \n",
            "4    48386,48386      23564,23564  \n",
            "\n",
            "[5 rows x 115 columns]\n"
          ]
        }
      ]
    },
    {
      "cell_type": "markdown",
      "source": [
        "The column CADD_phred needs to be converted to a numerical form so that it can filter"
      ],
      "metadata": {
        "id": "OdVkG2oHuFFV"
      }
    },
    {
      "cell_type": "code",
      "source": [
        "import numpy as np\n",
        "import re\n",
        "\n",
        "def extract_numbers(row):\n",
        "    numbers = re.findall(r'\\d+\\.\\d+', row)  #Find all numbers in row\n",
        "    if numbers:\n",
        "        return float(numbers[0])\n",
        "    else:\n",
        "        return np.nan\n",
        "\n",
        "def fix_CADD_phred(df):\n",
        "    df['CADD_phred'] = df['CADD_phred'].astype(str).apply(lambda x: extract_numbers(x))\n",
        "    return df\n",
        "\n",
        "for sample, df in dfs.items():\n",
        "    dfs[sample] = fix_CADD_phred(df)\n",
        "\n",
        "# Check the results\n",
        "for sample, df in dfs.items():\n",
        "    print(f\"Processed CADD_phred for {sample}:\")\n",
        "    print(df['CADD_phred'].head())"
      ],
      "metadata": {
        "colab": {
          "base_uri": "https://localhost:8080/"
        },
        "id": "djhTuW84G_qa",
        "outputId": "62f93a18-0b36-4ddd-b6fc-c710e73a8e92"
      },
      "execution_count": 69,
      "outputs": [
        {
          "output_type": "stream",
          "name": "stdout",
          "text": [
            "Processed CADD_phred for POU538:\n",
            "0       NaN\n",
            "1     2.209\n",
            "2    14.750\n",
            "3       NaN\n",
            "4       NaN\n",
            "Name: CADD_phred, dtype: float64\n",
            "Processed CADD_phred for QZU677:\n",
            "0       NaN\n",
            "1     2.209\n",
            "2    14.750\n",
            "3       NaN\n",
            "4       NaN\n",
            "Name: CADD_phred, dtype: float64\n",
            "Processed CADD_phred for OQL728:\n",
            "0       NaN\n",
            "1     2.209\n",
            "2    14.750\n",
            "3       NaN\n",
            "4       NaN\n",
            "Name: CADD_phred, dtype: float64\n"
          ]
        }
      ]
    },
    {
      "cell_type": "markdown",
      "source": [
        "The column gnomADv3_AF needs to be converted to a numerical form so that it can filter\n",
        "\n"
      ],
      "metadata": {
        "id": "o7eU6yqSzGkK"
      }
    },
    {
      "cell_type": "code",
      "source": [
        "def extract_numbers_to_null(row):\n",
        "    numbers = re.findall(r'\\d+\\.?\\d*(?:e-?\\d+)?', row)  # Найти все числа в строке\n",
        "    if numbers:\n",
        "        return float(numbers[0])\n",
        "    else:\n",
        "        return 0\n",
        "\n",
        "def fix_gnomADv3_AF(df):\n",
        "    df['gnomADv3_AF'] = df['gnomADv3_AF'].astype(str).apply(lambda x: extract_numbers_to_null(x))\n",
        "    return df\n",
        "\n",
        "for sample, df in dfs.items():\n",
        "    dfs[sample] = fix_gnomADv3_AF(df)\n",
        "\n",
        "# Check the results\n",
        "for sample, df in dfs.items():\n",
        "    print(f\"Processed gnomADv3_AF for {sample}:\")\n",
        "    print(df['gnomADv3_AF'].head())"
      ],
      "metadata": {
        "colab": {
          "base_uri": "https://localhost:8080/"
        },
        "id": "0bHN4FeTm0oy",
        "outputId": "8a373318-18f9-4b01-f658-5d01a3d52c5f"
      },
      "execution_count": 70,
      "outputs": [
        {
          "output_type": "stream",
          "name": "stdout",
          "text": [
            "Processed gnomADv3_AF for POU538:\n",
            "0    0.629059\n",
            "1    0.846001\n",
            "2    0.060879\n",
            "3    0.486394\n",
            "4    0.665930\n",
            "Name: gnomADv3_AF, dtype: float64\n",
            "Processed gnomADv3_AF for QZU677:\n",
            "0    0.629059\n",
            "1    0.846001\n",
            "2    0.060879\n",
            "3    0.486394\n",
            "4    0.665930\n",
            "Name: gnomADv3_AF, dtype: float64\n",
            "Processed gnomADv3_AF for OQL728:\n",
            "0    0.629059\n",
            "1    0.846001\n",
            "2    0.060879\n",
            "3    0.486394\n",
            "4    0.665930\n",
            "Name: gnomADv3_AF, dtype: float64\n"
          ]
        }
      ]
    },
    {
      "cell_type": "markdown",
      "source": [
        "The letter values ​​corresponding to the tools for predicting pathogenic variants also need to be formatted."
      ],
      "metadata": {
        "id": "ZW56PTIuz3s5"
      }
    },
    {
      "cell_type": "code",
      "source": [
        "def check_for_letters(value):\n",
        "    if re.search(r'[a-zA-Z]', str(value)):\n",
        "        return value\n",
        "    else:\n",
        "        return np.nan\n",
        "\n",
        "columns = ['CLIN_SIG', 'DEOGEN2_pred', 'FATHMM_pred', 'LRT_pred', 'MetaSVM_pred', 'MutationTaster_pred', 'PROVEAN_pred', 'Polyphen2_HVAR_pred', 'PrimateAI_pred', 'SIFT_pred', 'CLINVAR_CLNSIG']\n",
        "\n",
        "\n",
        "def fix_columns(df):\n",
        "    df[columns] = df[columns].applymap(check_for_letters)\n",
        "    return df\n",
        "\n",
        "for sample, df in dfs.items():\n",
        "    dfs[sample] = fix_columns(df)\n",
        "\n",
        "# Check the results using the column FATHMM_pred as example\n",
        "for sample, df in dfs.items():\n",
        "    print(f\"Processed FATHMM_pred for {sample}:\")\n",
        "    print(df['FATHMM_pred'].head())"
      ],
      "metadata": {
        "colab": {
          "base_uri": "https://localhost:8080/"
        },
        "id": "Q1UETtatgBXw",
        "outputId": "850afe73-f331-44a9-f98f-04257bc6dcf7"
      },
      "execution_count": 71,
      "outputs": [
        {
          "output_type": "stream",
          "name": "stderr",
          "text": [
            "<ipython-input-71-47d99b6fb84e>:11: FutureWarning: DataFrame.applymap has been deprecated. Use DataFrame.map instead.\n",
            "  df[columns] = df[columns].applymap(check_for_letters)\n",
            "<ipython-input-71-47d99b6fb84e>:11: FutureWarning: DataFrame.applymap has been deprecated. Use DataFrame.map instead.\n",
            "  df[columns] = df[columns].applymap(check_for_letters)\n",
            "<ipython-input-71-47d99b6fb84e>:11: FutureWarning: DataFrame.applymap has been deprecated. Use DataFrame.map instead.\n",
            "  df[columns] = df[columns].applymap(check_for_letters)\n"
          ]
        },
        {
          "output_type": "stream",
          "name": "stdout",
          "text": [
            "Processed FATHMM_pred for POU538:\n",
            "0    NaN\n",
            "1    .&T\n",
            "2    .&T\n",
            "3    NaN\n",
            "4    NaN\n",
            "Name: FATHMM_pred, dtype: object\n",
            "Processed FATHMM_pred for QZU677:\n",
            "0    NaN\n",
            "1    .&T\n",
            "2    .&T\n",
            "3    NaN\n",
            "4    NaN\n",
            "Name: FATHMM_pred, dtype: object\n",
            "Processed FATHMM_pred for OQL728:\n",
            "0    NaN\n",
            "1    .&T\n",
            "2    .&T\n",
            "3    NaN\n",
            "4    NaN\n",
            "Name: FATHMM_pred, dtype: object\n"
          ]
        }
      ]
    },
    {
      "cell_type": "markdown",
      "source": [
        "# Filtration"
      ],
      "metadata": {
        "id": "YH-uO9ec0r8l"
      }
    },
    {
      "cell_type": "code",
      "source": [
        "def gnomADv3_01_filtr(df):\n",
        "    df = df.replace('.', np.nan)\n",
        "    df.iloc[:, 8] = df.iloc[:, 8].astype(float)\n",
        "    df = df[(df.iloc[:, 7] != np.NaN) & (df.iloc[:, 7] != '0/0') & (df['FILTER'] == 'PASS') & (df.iloc[:, 8] > 50) & (df['gnomADv3_AF'] <= 0.01)]\n",
        "    return df\n",
        "\n",
        "for sample, df in dfs.items():\n",
        "    dfs[sample] = gnomADv3_01_filtr(df)\n",
        "\n",
        "# Check the results\n",
        "for sample, df in dfs.items():\n",
        "    print(f\"Filtered {sample} to a dataframe with the number of rows equal to:\")\n",
        "    print(len(df))"
      ],
      "metadata": {
        "colab": {
          "base_uri": "https://localhost:8080/"
        },
        "id": "bC-euGlW9P9S",
        "outputId": "6cddd7f9-a3e0-4242-8b90-1653075fc849"
      },
      "execution_count": 72,
      "outputs": [
        {
          "output_type": "stream",
          "name": "stdout",
          "text": [
            "Filtered POU538 to a dataframe with the number of rows equal to:\n",
            "2366\n",
            "Filtered QZU677 to a dataframe with the number of rows equal to:\n",
            "2605\n",
            "Filtered OQL728 to a dataframe with the number of rows equal to:\n",
            "2532\n"
          ]
        }
      ]
    },
    {
      "cell_type": "markdown",
      "source": [
        "Further filtering based on the pathogenicity criterion obtained from different tools - a variant was included in the sample if more than half of the tools had a pathogenicity prediction"
      ],
      "metadata": {
        "id": "nIWvJdHIH7wt"
      }
    },
    {
      "cell_type": "code",
      "source": [
        "thresholds = {\n",
        "    'CADD_phred': 20\n",
        "}\n",
        "\n",
        "\n",
        "columns = ['CADD_phred', 'CLIN_SIG', 'CLINVAR_CLNSIG', 'DEOGEN2_pred', 'FATHMM_pred',\n",
        "           'LRT_pred', 'MetaSVM_pred', 'MutationTaster_pred', 'PROVEAN_pred',\n",
        "           'Polyphen2_HVAR_pred', 'PrimateAI_pred', 'SIFT_pred']\n",
        "\n",
        "\n",
        "def is_pathogenic(row):\n",
        "    pathogenic_count = 0\n",
        "    count = 0\n",
        "\n",
        "    if not pd.isna(row['CADD_phred']):\n",
        "        if row['CADD_phred'] >= thresholds['CADD_phred']:\n",
        "            pathogenic_count += 1\n",
        "        count += 1\n",
        "\n",
        "    if not pd.isna(row['CLIN_SIG']):\n",
        "        if 'pathogenic' in row['CLIN_SIG'] or 'likely_pathogenic' in row['CLIN_SIG']:\n",
        "            pathogenic_count += 1\n",
        "        count += 1\n",
        "\n",
        "    if not pd.isna(row['CLINVAR_CLNSIG']):\n",
        "        if 'Pathogenic' in row['CLINVAR_CLNSIG'] or 'Likely_pathogenic' in row['CLINVAR_CLNSIG']:\n",
        "            pathogenic_count += 1\n",
        "        count += 1\n",
        "\n",
        "    for col in columns[3:]:\n",
        "        if not pd.isna(row[col]):\n",
        "            if 'D' in str(row[col]):\n",
        "                pathogenic_count += 1\n",
        "            count += 1\n",
        "\n",
        "    return pathogenic_count > (count / 2)\n",
        "\n",
        "\n",
        "for sample, df in dfs.items():\n",
        "    df['pathogenic'] = df.apply(is_pathogenic, axis=1)\n",
        "    dfs[sample] = df\n",
        "\n",
        "# Check the results\n",
        "for sample, df in dfs.items():\n",
        "    print(f\"Filtered DataFrame for {sample} has {len(df)} rows.\")\n",
        "    print(df['pathogenic'].head())"
      ],
      "metadata": {
        "colab": {
          "base_uri": "https://localhost:8080/"
        },
        "id": "0A_gDvJV4JJN",
        "outputId": "8652293e-7f5f-4546-b92f-95c9f754b59b"
      },
      "execution_count": 75,
      "outputs": [
        {
          "output_type": "stream",
          "name": "stdout",
          "text": [
            "Filtered DataFrame for POU538 has 1824 rows.\n",
            "404    False\n",
            "479    False\n",
            "761    False\n",
            "865    False\n",
            "908    False\n",
            "Name: pathogenic, dtype: bool\n",
            "Filtered DataFrame for QZU677 has 1936 rows.\n",
            "294    False\n",
            "457    False\n",
            "458    False\n",
            "463    False\n",
            "601    False\n",
            "Name: pathogenic, dtype: bool\n",
            "Filtered DataFrame for OQL728 has 1900 rows.\n",
            "142    False\n",
            "347    False\n",
            "431    False\n",
            "550     True\n",
            "602     True\n",
            "Name: pathogenic, dtype: bool\n"
          ]
        }
      ]
    },
    {
      "cell_type": "code",
      "source": [
        "for sample, df in dfs.items():\n",
        "    dfs[sample] = df[df['pathogenic'] == True]\n",
        "\n",
        "# Check the results\n",
        "for sample, df in dfs.items():\n",
        "    print(f\"Filtered DataFrame for {sample} has {len(df)} rows.\")\n",
        "    print(df['pathogenic'].head())"
      ],
      "metadata": {
        "colab": {
          "base_uri": "https://localhost:8080/"
        },
        "id": "MIDdY3AxgQdZ",
        "outputId": "b67fe3bb-bd1a-4a58-dcd7-dc9fc9f45fe3"
      },
      "execution_count": 76,
      "outputs": [
        {
          "output_type": "stream",
          "name": "stdout",
          "text": [
            "Filtered DataFrame for POU538 has 68 rows.\n",
            "15440    True\n",
            "33272    True\n",
            "42026    True\n",
            "43562    True\n",
            "44581    True\n",
            "Name: pathogenic, dtype: bool\n",
            "Filtered DataFrame for QZU677 has 92 rows.\n",
            "5696     True\n",
            "7287     True\n",
            "8182     True\n",
            "16607    True\n",
            "19385    True\n",
            "Name: pathogenic, dtype: bool\n",
            "Filtered DataFrame for OQL728 has 88 rows.\n",
            "550     True\n",
            "602     True\n",
            "672     True\n",
            "8652    True\n",
            "9684    True\n",
            "Name: pathogenic, dtype: bool\n"
          ]
        }
      ]
    },
    {
      "cell_type": "code",
      "source": [
        "for sample, df in dfs.items():\n",
        "    df.to_csv(f'{sample}_pathogenic.csv', index=False)"
      ],
      "metadata": {
        "id": "RYnQVXbNAVH9"
      },
      "execution_count": 77,
      "outputs": []
    }
  ]
}